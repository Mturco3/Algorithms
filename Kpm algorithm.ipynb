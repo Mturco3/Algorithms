{
 "cells": [
  {
   "cell_type": "markdown",
   "metadata": {},
   "source": [
    "## KPM Algorithm"
   ]
  },
  {
   "cell_type": "markdown",
   "metadata": {},
   "source": [
    "Given two strings `needle` and `haystack`, return the index of the first occurrence of needle in haystack, or -1 if needle is not part of haystack.  \n",
    "<strong>Example 1:</strong>\n",
    "\n",
    "Input: haystack = \"sadbutsad\", needle = \"sad\"\n",
    "Output: 0  \n",
    "Explanation: \"sad\" occurs at index 0 and 6. The first occurrence is at index 0, so we return 0.  \n",
    "\n",
    "<strong>Example 2:</strong>\n",
    "\n",
    "Input: haystack = \"leetcode\", needle = \"leeto\"  \n",
    "Output: -1  \n",
    "Explanation: \"leeto\" did not occur in \"leetcode\", so we return -1."
   ]
  },
  {
   "cell_type": "markdown",
   "metadata": {},
   "source": [
    "#1\\) Naive Approach  \n",
    "The naive approach is to slide the pattern one by one. Check for a match of the first character of the pattern in the text. If a match is found, then slides by 1 again to check for subsequent matches. If a match is not found then slides by 1 again and so on.\n"
   ]
  },
  {
   "cell_type": "code",
   "execution_count": 44,
   "metadata": {},
   "outputs": [
    {
     "name": "stdout",
     "output_type": "stream",
     "text": [
      "s s  i= 0\n",
      "s s 0\n",
      "a a 1\n",
      "d d 2\n",
      "0\n",
      "\n",
      "\n",
      "h l  i= 0\n",
      "e l  i= 1\n",
      "l l  i= 2\n",
      "l l 0\n",
      "l l 1\n",
      "2\n",
      "\n",
      "\n",
      "a a  i= 0\n",
      "a a 0\n",
      "b b 1\n",
      "c c 2\n",
      "a d 3\n",
      "b a  i= 1\n",
      "c a  i= 2\n",
      "a a  i= 3\n",
      "a a 0\n",
      "b b 1\n",
      "c c 2\n",
      "a d 3\n",
      "b a  i= 4\n",
      "c a  i= 5\n",
      "a a  i= 6\n",
      "a a 0\n",
      "b b 1\n",
      "c c 2\n",
      "d d 3\n",
      "6\n"
     ]
    }
   ],
   "source": [
    "haystack1=\"sadbutsad\"\n",
    "needle1=\"sad\"\n",
    "haystack2=\"hello\"\n",
    "needle2=\"ll\"\n",
    "haystack3=\"abcabcabcd\"\n",
    "needle3=\"abcd\"\n",
    "def strStr(haystack, needle):\n",
    "    j=0\n",
    "    for i in range(len(haystack)):\n",
    "        print(haystack[i],needle[0],\" i=\",i)\n",
    "        if haystack[i]==needle[0]:\n",
    "            while j<len(needle) and haystack[i+j]==needle[j]:\n",
    "                print(haystack[i+j],needle[j],j)\n",
    "                j+=1\n",
    "            if j==len(needle):\n",
    "                return(i) \n",
    "            else:\n",
    "                print(haystack[i+j],needle[j],j)\n",
    "                j=0\n",
    "    return -1\n",
    "print(strStr(haystack1,needle1))\n",
    "print(\"\\n\")\n",
    "print(strStr(haystack2,needle2))\n",
    "print(\"\\n\")\n",
    "print(strStr(haystack3,needle3))"
   ]
  },
  {
   "cell_type": "markdown",
   "metadata": {},
   "source": [
    "--> Time Complexity: O(n*m), the worst case is when all the characters of the needle and haystack are the same. The problem is that we are not taking advantage of the previous comparisons and there is a lot of wasted computations."
   ]
  },
  {
   "cell_type": "markdown",
   "metadata": {},
   "source": [
    "#2\\) KMP Algorithm  \n",
    "The KMP algorithm improves the worst-case complexity to O(n+m) by taking advantage of the previous comparisons. The idea is to create a lookup table that tells us how many characters we can skip by using the previous comparisons. In order to do that, we need to find the longest prefix that is also a suffix for each prefix of the needle, so basically if there are set of characters that are repeated in the needle. We then need to have an algorithm to find the longest common prefix for every possible substring of the needle."
   ]
  },
  {
   "cell_type": "markdown",
   "metadata": {},
   "source": [
    "--> Longest common prefix:"
   ]
  },
  {
   "cell_type": "code",
   "execution_count": 45,
   "metadata": {},
   "outputs": [
    {
     "data": {
      "text/plain": [
       "{0: 0, 1: 0, 2: 1, 3: 2, 4: 0}"
      ]
     },
     "execution_count": 45,
     "metadata": {},
     "output_type": "execute_result"
    }
   ],
   "source": [
    "def pres(str):\n",
    "    j=1\n",
    "    i=0\n",
    "    dic={0:0}\n",
    "    counter=0\n",
    "    while j!=len(str):\n",
    "        #print(i,needle[i], j, needle[j])  \n",
    "        if str[i]==str[j]: # If the two characters are equal, then we increment the counter for both i and j and add it to the dictionary\n",
    "            counter+=1\n",
    "            dic[j]=counter\n",
    "            j+=1\n",
    "            i+=1\n",
    "        elif str[i-1]==str[j-1] and str[i]!=str[j] and i!=0: \n",
    "            i,counter= dic[i-1], dic[i-1]\n",
    "        # If the two characters are not equal, then we check if the previous characters are equal. \n",
    "        # If they are, then we set i to the value of the previous character and set the counter to the value of the previous character since we already know\n",
    "        # that the previous characters are equal (how many times they are equal is stored in the dictionary).\n",
    "        else:\n",
    "            counter=0\n",
    "            dic[j]=counter\n",
    "            j+=1\n",
    "    #print(counter)\n",
    "    return dic \n",
    "      \n",
    "pres(\"ababc\")\n",
    "\n"
   ]
  },
  {
   "cell_type": "markdown",
   "metadata": {},
   "source": [
    "--> Proper algorithm"
   ]
  },
  {
   "cell_type": "code",
   "execution_count": 53,
   "metadata": {},
   "outputs": [
    {
     "name": "stdout",
     "output_type": "stream",
     "text": [
      "{0: 0, 1: 1, 2: 2, 3: 3}\n",
      "0 a 0 a\n",
      "1\n",
      "1 a 1 a\n",
      "2\n",
      "2 2\n"
     ]
    },
    {
     "data": {
      "text/plain": [
       "-1"
      ]
     },
     "execution_count": 53,
     "metadata": {},
     "output_type": "execute_result"
    }
   ],
   "source": [
    "def Kpm(haystackf,needlef):\n",
    "    dic=pres(needlef)\n",
    "    print(dic)\n",
    "    i,j, counter=0,0,0\n",
    "    while i<len(haystackf) and j<len(needlef):\n",
    "        print(i,haystackf[i], j, needlef[j])\n",
    "        if haystackf[i]==needlef[j]:\n",
    "            i+=1\n",
    "            j+=1\n",
    "            counter+=1\n",
    "        elif haystackf[i]!=needlef[j] and haystackf[i-1]==needlef[j-1] and i!=0 and j!=0:\n",
    "            print(\"NO MATCH FOUND, BUT PREVIOUS THERE MAY BE A COOMON LONGEST PREFIX AND SUFFIX\")\n",
    "            j, counter =dic[j-1], dic[j-1]\n",
    "        else:\n",
    "            print(\"NO MATCH FOUND\")\n",
    "            i+=1\n",
    "            counter=0\n",
    "            j=0\n",
    "        \n",
    "        \n",
    "        print(counter)\n",
    "    print(i,j)\n",
    "    if counter!=0 and j==len(needlef):\n",
    "        return i-counter\n",
    "    else:\n",
    "        return -1\n",
    "s1=\"aa\"\n",
    "s2=\"aaaa\"\n",
    "Kpm(s1,s2)\n",
    "\n",
    "            \n",
    "        "
   ]
  },
  {
   "cell_type": "markdown",
   "metadata": {},
   "source": [
    "--> Time Complexity: O(n+m)\n",
    "However, since the needle is shorter than the haystack, the time complexity is O(n). The space complexity is O(m) since we need to store the lookup table."
   ]
  }
 ],
 "metadata": {
  "kernelspec": {
   "display_name": "Python 3",
   "language": "python",
   "name": "python3"
  },
  "language_info": {
   "codemirror_mode": {
    "name": "ipython",
    "version": 3
   },
   "file_extension": ".py",
   "mimetype": "text/x-python",
   "name": "python",
   "nbconvert_exporter": "python",
   "pygments_lexer": "ipython3",
   "version": "3.11.5"
  },
  "orig_nbformat": 4
 },
 "nbformat": 4,
 "nbformat_minor": 2
}
