{
 "cells": [
  {
   "cell_type": "code",
   "execution_count": null,
   "metadata": {},
   "outputs": [],
   "source": [
    "def deleteDuplicates(self, head):\n",
    "        \"\"\"\n",
    "        :type head: ListNode\n",
    "        :rtype: ListNode\n",
    "        \"\"\"\n",
    "        if head == None:\n",
    "            return head\n",
    "        values = set()\n",
    "        values.add(head.val)\n",
    "        current = head\n",
    "        while current.next != None:\n",
    "            if current.next.val in values:\n",
    "                current.next = current.next.next\n",
    "            else:\n",
    "                values.add(current.next.val)\n",
    "                current = current.next\n",
    "        print(values)\n",
    "        return head\n"
   ]
  }
 ],
 "metadata": {
  "language_info": {
   "name": "python"
  }
 },
 "nbformat": 4,
 "nbformat_minor": 2
}
